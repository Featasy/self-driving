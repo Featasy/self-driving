{
 "cells": [
  {
   "cell_type": "markdown",
   "metadata": {},
   "source": [
    "# Use Pickle format for later training\n",
    "For convenient training in later recommend you to use pickle format which is popular dataformat in machine-learning.<br/>\n",
    "In this notebook, you will learn how to use annotation informations from clip image to dump as pickle."
   ]
  },
  {
   "cell_type": "code",
   "execution_count": 1,
   "metadata": {
    "collapsed": true
   },
   "outputs": [],
   "source": [
    "from __future__ import print_function\n",
    "%matplotlib inline\n",
    "import glob\n",
    "import matplotlib.image as mpimg\n",
    "import matplotlib.pyplot as plt\n",
    "plt.rcParams['figure.figsize'] = (0.8, 0.8)\n",
    "import pandas as pd\n",
    "import numpy as np\n",
    "from scipy.misc import imresize\n",
    "import os\n",
    "import pickle"
   ]
  },
  {
   "cell_type": "markdown",
   "metadata": {},
   "source": [
    "The following path is default if you download dataset via `dowload_dataset.sh`."
   ]
  },
  {
   "cell_type": "code",
   "execution_count": 2,
   "metadata": {
    "collapsed": true
   },
   "outputs": [],
   "source": [
    "train_dir = 'data/train/GTSRB/Final_Training/Images/*'\n",
    "test_dir = 'data/test/GTSRB/Final_Test/Images/'\n",
    "# default image size for later training\n",
    "img_shape = (32, 32)\n",
    "n_cls = 43"
   ]
  },
  {
   "cell_type": "markdown",
   "metadata": {},
   "source": [
    "### Clip image which is according to annotation data.\n",
    "The annotation information including 'Filename', 'Roi.X1', 'Roi.Y1', 'Roi.X2', 'Roi.Y2', 'ClassId' will be applied to this."
   ]
  },
  {
   "cell_type": "code",
   "execution_count": 3,
   "metadata": {},
   "outputs": [],
   "source": [
    "def _clip_image_with_annotation_info(dir, isTrain=True):\n",
    "    annotation_path = glob.glob(os.path.join(dir, '*.csv'))[0]\n",
    "    print(annotation_path + '...')\n",
    "    annotation = pd.read_csv(annotation_path, delimiter=';')\n",
    "    imgs = []\n",
    "    classids = []\n",
    "    for _, row in annotation.iterrows():\n",
    "        img = mpimg.imread(os.path.join(dir, row['Filename']))\n",
    "        x1 = int(row['Roi.X1'])\n",
    "        y1 = int(row['Roi.Y1'])\n",
    "        x2 = int(row['Roi.X2'])\n",
    "        y2 = int(row['Roi.Y2'])\n",
    "        img = imresize(img[x1:x2, y1:y2], size=img_shape, mode='RGB')\n",
    "        imgs.append(img)\n",
    "        if isTrain:\n",
    "            clsid = np.zeros(shape=n_cls)\n",
    "            clsid[int(row['ClassId'])]=1\n",
    "            classids.append(clsid)\n",
    "    return imgs, classids"
   ]
  },
  {
   "cell_type": "markdown",
   "metadata": {},
   "source": [
    "### Data loaded\n",
    "step through the annotation files from train-set to test-set."
   ]
  },
  {
   "cell_type": "code",
   "execution_count": 4,
   "metadata": {
    "collapsed": true
   },
   "outputs": [],
   "source": [
    "def load_data_with_annotations(dir, isTrain=True):\n",
    "    features = []\n",
    "    labels = []\n",
    "    if isTrain:\n",
    "        for subdir in glob.glob(dir):\n",
    "            img, classid = _clip_image_with_annotation_info(subdir, isTrain=isTrain)\n",
    "            features.extend(img)\n",
    "            labels.extend(classid)\n",
    "    else:\n",
    "        img, _ = _clip_image_with_annotation_info(dir, isTrain=isTrain)\n",
    "        features.extend(img)\n",
    "    print('complete..')\n",
    "    return {\n",
    "        'features': np.array(features),\n",
    "        'labels': np.array(labels)\n",
    "    }"
   ]
  },
  {
   "cell_type": "markdown",
   "metadata": {},
   "source": [
    "### Data dumps to pickle"
   ]
  },
  {
   "cell_type": "code",
   "execution_count": 5,
   "metadata": {},
   "outputs": [
    {
     "name": "stdout",
     "output_type": "stream",
     "text": [
      "data/train/GTSRB/Final_Training/Images/00029/GT-00029.csv...\n",
      "data/train/GTSRB/Final_Training/Images/00008/GT-00008.csv...\n",
      "data/train/GTSRB/Final_Training/Images/00006/GT-00006.csv...\n",
      "data/train/GTSRB/Final_Training/Images/00003/GT-00003.csv...\n",
      "data/train/GTSRB/Final_Training/Images/00018/GT-00018.csv...\n",
      "data/train/GTSRB/Final_Training/Images/00037/GT-00037.csv...\n",
      "data/train/GTSRB/Final_Training/Images/00024/GT-00024.csv...\n",
      "data/train/GTSRB/Final_Training/Images/00002/GT-00002.csv...\n",
      "data/train/GTSRB/Final_Training/Images/00027/GT-00027.csv...\n",
      "data/train/GTSRB/Final_Training/Images/00004/GT-00004.csv...\n",
      "data/train/GTSRB/Final_Training/Images/00034/GT-00034.csv...\n",
      "data/train/GTSRB/Final_Training/Images/00009/GT-00009.csv...\n",
      "data/train/GTSRB/Final_Training/Images/00001/GT-00001.csv...\n",
      "data/train/GTSRB/Final_Training/Images/00011/GT-00011.csv...\n",
      "data/train/GTSRB/Final_Training/Images/00021/GT-00021.csv...\n",
      "data/train/GTSRB/Final_Training/Images/00041/GT-00041.csv...\n",
      "data/train/GTSRB/Final_Training/Images/00012/GT-00012.csv...\n",
      "data/train/GTSRB/Final_Training/Images/00000/GT-00000.csv...\n",
      "data/train/GTSRB/Final_Training/Images/00019/GT-00019.csv...\n",
      "data/train/GTSRB/Final_Training/Images/00038/GT-00038.csv...\n",
      "data/train/GTSRB/Final_Training/Images/00033/GT-00033.csv...\n",
      "data/train/GTSRB/Final_Training/Images/00035/GT-00035.csv...\n",
      "data/train/GTSRB/Final_Training/Images/00023/GT-00023.csv...\n",
      "data/train/GTSRB/Final_Training/Images/00026/GT-00026.csv...\n",
      "data/train/GTSRB/Final_Training/Images/00025/GT-00025.csv...\n",
      "data/train/GTSRB/Final_Training/Images/00016/GT-00016.csv...\n",
      "data/train/GTSRB/Final_Training/Images/00032/GT-00032.csv...\n",
      "data/train/GTSRB/Final_Training/Images/00014/GT-00014.csv...\n",
      "data/train/GTSRB/Final_Training/Images/00039/GT-00039.csv...\n",
      "data/train/GTSRB/Final_Training/Images/00031/GT-00031.csv...\n",
      "data/train/GTSRB/Final_Training/Images/00028/GT-00028.csv...\n",
      "data/train/GTSRB/Final_Training/Images/00030/GT-00030.csv...\n",
      "data/train/GTSRB/Final_Training/Images/00036/GT-00036.csv...\n",
      "data/train/GTSRB/Final_Training/Images/00010/GT-00010.csv...\n",
      "data/train/GTSRB/Final_Training/Images/00022/GT-00022.csv...\n",
      "data/train/GTSRB/Final_Training/Images/00017/GT-00017.csv...\n",
      "data/train/GTSRB/Final_Training/Images/00040/GT-00040.csv...\n",
      "data/train/GTSRB/Final_Training/Images/00042/GT-00042.csv...\n",
      "data/train/GTSRB/Final_Training/Images/00020/GT-00020.csv...\n",
      "data/train/GTSRB/Final_Training/Images/00007/GT-00007.csv...\n",
      "data/train/GTSRB/Final_Training/Images/00015/GT-00015.csv...\n",
      "data/train/GTSRB/Final_Training/Images/00005/GT-00005.csv...\n",
      "data/train/GTSRB/Final_Training/Images/00013/GT-00013.csv...\n",
      "complete..\n",
      "data/test/GTSRB/Final_Test/Images/GT-final_test.test.csv...\n",
      "complete..\n"
     ]
    }
   ],
   "source": [
    "train_data = load_data_with_annotations(train_dir)\n",
    "test_data = load_data_with_annotations(test_dir, isTrain=False)"
   ]
  },
  {
   "cell_type": "code",
   "execution_count": 6,
   "metadata": {
    "collapsed": true
   },
   "outputs": [],
   "source": [
    "pickle.dump(train_data, open('data/train.pkl', 'wb'))\n",
    "pickle.dump(test_data['features'], open('data/test.pkl', 'wb'))"
   ]
  },
  {
   "cell_type": "code",
   "execution_count": null,
   "metadata": {
    "collapsed": true
   },
   "outputs": [],
   "source": []
  }
 ],
 "metadata": {
  "kernelspec": {
   "display_name": "Python 2",
   "language": "python",
   "name": "python2"
  },
  "language_info": {
   "codemirror_mode": {
    "name": "ipython",
    "version": 2
   },
   "file_extension": ".py",
   "mimetype": "text/x-python",
   "name": "python",
   "nbconvert_exporter": "python",
   "pygments_lexer": "ipython2",
   "version": "2.7.14"
  }
 },
 "nbformat": 4,
 "nbformat_minor": 2
}
