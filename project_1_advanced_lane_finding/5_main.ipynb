{
 "cells": [
  {
   "cell_type": "code",
   "execution_count": 1,
   "metadata": {},
   "outputs": [],
   "source": [
    "%matplotlib inline\n",
    "import cv2\n",
    "import os\n",
    "import matplotlib.pyplot as plt\n",
    "import matplotlib.image as mpimg\n",
    "plt.rcParams['figure.figsize'] = (20, 20)\n",
    "from calibration import calibration, undistort\n",
    "from binarization import binarize\n",
    "from birdeye import birdeye\n",
    "from lane import Line, get_fits_by_sliding_windows, get_fits_by_previous_fits, draw_back_onto_the_road\n",
    "from moviepy.editor import VideoFileClip\n",
    "import numpy as np"
   ]
  },
  {
   "cell_type": "code",
   "execution_count": 2,
   "metadata": {
    "collapsed": true
   },
   "outputs": [],
   "source": [
    "mtx, dist = None, None\n",
    "time_window = 10\n",
    "xm_per_pix = 3.7 / 700\n",
    "processed_frames = 0\n",
    "line_lt = Line(buffer_len=time_window)\n",
    "line_rt = Line(buffer_len=time_window)"
   ]
  },
  {
   "cell_type": "code",
   "execution_count": 3,
   "metadata": {
    "collapsed": true
   },
   "outputs": [],
   "source": [
    "\"\"\"\n",
    "Prepare to blend frame\n",
    "Args:\n",
    "  blend_on_road: color image of lane blend onto the road\n",
    "  img_binary: threshold binary image (contour)\n",
    "  img_birdeye: bird's eye view of the threshold binary image\n",
    "  img_fit: bird's eye view with detected lane-lines highlighted\n",
    "  line_lt: detected left lane-line\n",
    "  line_rt: detected right lane-line\n",
    "  offset_meter: offset from the centre of the lane\n",
    "Return:\n",
    "  blending result\n",
    "\"\"\"\n",
    "def prepare_out_blend_frame(blend_on_road, img_binary, img_birdeye, img_fit, line_lt, line_rt, offset_meter):\n",
    "    h, w = blend_on_road.shape[:2]\n",
    "    \n",
    "    # for showing thumbnail\n",
    "    thumb_ratio = 0.2\n",
    "    thumb_h, thumb_w = int(thumb_ratio*h), int(thumb_ratio*w)\n",
    "    \n",
    "    off_x, off_y = 20, 15\n",
    "    \n",
    "    # add a gray rectangle to highlight the upper area\n",
    "    mask = blend_on_road.copy()\n",
    "    mask = cv2.rectangle(mask, pt1=(0, 0), pt2=(w, thumb_h+2*off_y), color=(0, 0, 0), thickness=cv2.FILLED)\n",
    "    blend_on_road = cv2.addWeighted(src1=mask, alpha=0.2, src2=blend_on_road, beta=0.8, gamma=0)\n",
    "    \n",
    "    # add thumbnail of binary image\n",
    "    thumb_binary = cv2.resize(img_binary, dsize=(thumb_w, thumb_h))\n",
    "    thumb_binary = np.dstack([thumb_binary, thumb_binary, thumb_binary]) * 255\n",
    "    blend_on_road[off_y:thumb_h+off_y, off_x:off_x+thumb_w, :] = thumb_binary\n",
    "    \n",
    "    # add thumbnail of bird's eye view\n",
    "    thumb_birdeye = cv2.resize(img_birdeye, dsize=(thumb_w, thumb_h))\n",
    "    thumb_birdeye = np.dstack([thumb_birdeye, thumb_birdeye, thumb_birdeye]) * 255\n",
    "    blend_on_road[off_y:thumb_h+off_y, 2*off_x+thumb_w:2*(off_x+thumb_w), :] = thumb_birdeye\n",
    "    \n",
    "    # add thumbnail of bird's eye view\n",
    "    thumb_img_fit = cv2.resize(img_fit, dsize=(thumb_w, thumb_h))\n",
    "    blend_on_road[off_y:thumb_h+off_y, 3*off_x+2*thumb_w:3*(off_x+thumb_w), :] = thumb_img_fit\n",
    "    \n",
    "    # add text (curvature and offset info) on the upper right of the blending\n",
    "    mean_curvature_meter = np.mean([line_lt.curvature_meter, line_rt.curvature_meter])\n",
    "    font = cv2.FONT_HERSHEY_SIMPLEX\n",
    "    cv2.putText(blend_on_road, 'Curvature radius: {:.02f}m'.format(mean_curvature_meter), (860, 60), font, 0.9, (255, 255, 255), 2, cv2.LINE_AA)\n",
    "    cv2.putText(blend_on_road, 'Offset from center: {:.02f}m'.format(offset_meter), (860, 130), font, 0.9, (255, 255, 255), 2, cv2.LINE_AA)\n",
    "    \n",
    "    return blend_on_road"
   ]
  },
  {
   "cell_type": "code",
   "execution_count": 4,
   "metadata": {
    "collapsed": true
   },
   "outputs": [],
   "source": [
    "\"\"\"\n",
    "Compute offset from center of the inferred lane\n",
    "This offset from the lane center can be computed under the hypothesis that the camera is fixed.\n",
    "Args:\n",
    "  line_lt: detected left lane-line\n",
    "  line_rt: detected right lane-line\n",
    "  frame_width: width of the undistorted frame\n",
    "Return:\n",
    "  inferred offset\n",
    "\"\"\"\n",
    "def compute_offset_from_center(line_lt, line_rt, frame_width):\n",
    "    if line_lt.detected and line_rt.detected:\n",
    "        line_lt_bottom = np.mean(line_lt.all_x[line_lt.all_y > 0.95 * line_lt.all_y.max()])\n",
    "        line_rt_bottom = np.mean(line_rt.all_x[line_rt.all_y > 0.95 * line_rt.all_y.max()])\n",
    "        lane_width = line_rt_bottom - line_lt_bottom\n",
    "        midpoint = frame_width/2\n",
    "        offset_pix = abs((line_lt_bottom + lane_width/2) - midpoint)\n",
    "        offset_meter = xm_per_pix * offset_pix\n",
    "    else:\n",
    "        offset_meter = -1\n",
    "    return offset_meter"
   ]
  },
  {
   "cell_type": "code",
   "execution_count": 5,
   "metadata": {
    "collapsed": true
   },
   "outputs": [],
   "source": [
    "\"\"\"\n",
    "Image Process pipeline\n",
    "Args:\n",
    "  frame: input color frame\n",
    "  keep_state: if True, lane-lines state is conserved (permits to average results)\n",
    "\"\"\"\n",
    "def process_pipeline(frame, keep_state=True):\n",
    "    global line_lt, line_rt, processed_frames\n",
    "    \n",
    "    # undistorted the image using coefficients found in calibration\n",
    "    img_undistorted = undistort(frame, mtx, dist, verbose=False)\n",
    "    \n",
    "    # binarize the frame to highlight lane lines as much as possible\n",
    "    img_binary = binarize(img_undistorted, verbose=False)\n",
    "    \n",
    "    # compute perspective transform to obtain bird's eye view\n",
    "    img_birdeye, M, Minv = birdeye(img_binary, verbose=False)\n",
    "    \n",
    "    # fit 2-degree polynomial curve onto lane lines found\n",
    "    if processed_frames > 0 and keep_state and line_lt.detected and line_rt.detected:\n",
    "        line_lt, line_rt, img_fit = get_fits_by_previous_fits(img_birdeye, line_lt, line_rt, verbose=False)\n",
    "    else:\n",
    "        line_lt, line_rt, img_fit = get_fits_by_sliding_windows(img_birdeye, line_lt, line_rt, n_windows=9, verbose=False)\n",
    "    \n",
    "    # compute offset in meter from center of the lane\n",
    "    offset_meter = compute_offset_from_center(line_lt, line_rt, frame_width=frame.shape[1])\n",
    "    \n",
    "    # draw the surface enclosed by lane lines back onto the original frame\n",
    "    blend_on_road = draw_back_onto_the_road(img_undistorted, Minv, line_lt, line_rt, keep_state)\n",
    "    \n",
    "    # stitch on the top of final output images from different steps of the pipeline (thumbnail view of each pipeline steps)\n",
    "    blend_output = prepare_out_blend_frame(blend_on_road, img_binary, img_birdeye, img_fit, line_lt, line_rt, offset_meter)\n",
    "    \n",
    "    processed_frames += 1\n",
    "    \n",
    "    return blend_output"
   ]
  },
  {
   "cell_type": "code",
   "execution_count": 6,
   "metadata": {
    "collapsed": true
   },
   "outputs": [],
   "source": [
    "\"\"\"\n",
    "Camera Initialization\n",
    "\"\"\"\n",
    "def init_camera():\n",
    "    global mtx, dist\n",
    "    ret, mtx, dist, rvecs, tvecs = calibration(cal_chessboard_dir='camera_cal')"
   ]
  },
  {
   "cell_type": "code",
   "execution_count": 7,
   "metadata": {},
   "outputs": [],
   "source": [
    "# test single shot\n",
    "def test_single():\n",
    "    init_camera()\n",
    "    img = mpimg.imread('singleshot/test.jpg')[:,:,:3]\n",
    "    blend = process_pipeline(img, keep_state=False)\n",
    "    plt.imshow(blend)"
   ]
  },
  {
   "cell_type": "code",
   "execution_count": 15,
   "metadata": {
    "collapsed": true
   },
   "outputs": [],
   "source": [
    "# test video\n",
    "def test_video():\n",
    "    init_camera()\n",
    "    clip = VideoFileClip('project_video.mp4').fl_image(process_pipeline)\n",
    "    clip = clip.set_end(7)\n",
    "    clip.write_gif('./output/result.gif')\n",
    "#     clip.write_videofile('./output/reg_vid.mp4', audio=False)"
   ]
  },
  {
   "cell_type": "code",
   "execution_count": 16,
   "metadata": {},
   "outputs": [
    {
     "name": "stdout",
     "output_type": "stream",
     "text": [
      "\n",
      "[MoviePy] Building file output_result.gif with imageio\n"
     ]
    },
    {
     "name": "stderr",
     "output_type": "stream",
     "text": [
      " 99%|█████████▉| 175/176 [02:16<00:00,  1.33it/s]\n"
     ]
    }
   ],
   "source": [
    "test_video()"
   ]
  },
  {
   "cell_type": "code",
   "execution_count": null,
   "metadata": {
    "collapsed": true
   },
   "outputs": [],
   "source": []
  }
 ],
 "metadata": {
  "kernelspec": {
   "display_name": "Python 2",
   "language": "python",
   "name": "python2"
  },
  "language_info": {
   "codemirror_mode": {
    "name": "ipython",
    "version": 2
   },
   "file_extension": ".py",
   "mimetype": "text/x-python",
   "name": "python",
   "nbconvert_exporter": "python",
   "pygments_lexer": "ipython2",
   "version": "2.7.14"
  }
 },
 "nbformat": 4,
 "nbformat_minor": 2
}
