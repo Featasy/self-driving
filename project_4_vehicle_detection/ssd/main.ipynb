{
 "cells": [
  {
   "cell_type": "code",
   "execution_count": 1,
   "metadata": {},
   "outputs": [
    {
     "name": "stderr",
     "output_type": "stream",
     "text": [
      "Using TensorFlow backend.\n"
     ]
    }
   ],
   "source": [
    "%matplotlib inline\n",
    "import matplotlib.pyplot as plt\n",
    "import matplotlib.image as mpimg\n",
    "import cv2\n",
    "import numpy as np\n",
    "import pickle\n",
    "import os\n",
    "import glob\n",
    "import random\n",
    "from ssd import default_model"
   ]
  },
  {
   "cell_type": "code",
   "execution_count": 2,
   "metadata": {
    "collapsed": true
   },
   "outputs": [],
   "source": [
    "model = default_model()\n",
    "model.load_weights('weights_SSD300.hdf5')"
   ]
  },
  {
   "cell_type": "code",
   "execution_count": 86,
   "metadata": {},
   "outputs": [],
   "source": [
    "test_img_list = [mpimg.imread(path) for path in glob.glob('../test_images/*.jpg')]\n",
    "test_img_list = np.array(test_img_list)"
   ]
  },
  {
   "cell_type": "code",
   "execution_count": 4,
   "metadata": {
    "collapsed": true
   },
   "outputs": [],
   "source": [
    "from ssd_utils import BBoxUtility\n",
    "\n",
    "prior_box = pickle.load(open('prior_boxes_ssd300.pkl', 'rb'))\n",
    "bbox_utility = BBoxUtility(21, priors=prior_box)"
   ]
  },
  {
   "cell_type": "code",
   "execution_count": 108,
   "metadata": {},
   "outputs": [],
   "source": [
    "def blending(img, results, confidence=0.6):\n",
    "    det_label = results[0][:, 0]\n",
    "    det_conf = results[0][:, 1]\n",
    "    det_xmin = results[0][:, 2]\n",
    "    det_ymin = results[0][:, 3]\n",
    "    det_xmax = results[0][:, 4]\n",
    "    det_ymax = results[0][:, 5]\n",
    "    \n",
    "    top_indices = det_conf >= confidence\n",
    "    \n",
    "    top_conf = det_conf[top_indices]\n",
    "    top_label_indices = det_label[top_indices]\n",
    "    top_xmin = det_xmin[top_indices]\n",
    "    top_ymin = det_ymin[top_indices]\n",
    "    top_xmax = det_xmax[top_indices]\n",
    "    top_ymax = det_ymax[top_indices]\n",
    "    \n",
    "    cpimg = np.copy(img)\n",
    "    \n",
    "    for i in range(top_conf.shape[0]):\n",
    "        xmin = int(round(top_xmin[i] * img.shape[1]))\n",
    "        ymin = int(round(top_ymin[i] * img.shape[0]))\n",
    "        xmax = int(round(top_xmax[i] * img.shape[1]))\n",
    "        ymax = int(round(top_ymax[i] * img.shape[0]))\n",
    "\n",
    "        score = top_conf[i]\n",
    "        label = int(top_label_indices[i])\n",
    "        if label != 7:\n",
    "            continue\n",
    "            \n",
    "        font = cv2.FONT_HERSHEY_SIMPLEX\n",
    "        cv2.rectangle(cpimg, pt1=(xmin, ymin), pt2=(xmax+5, ymax+5), color=(0, 0, 255), thickness=3)\n",
    "        cv2.putText(cpimg, '{:0.2f}'.format(score), (xmin+15, ymin-15), font, 1.5, (0, 0, 255), 3, cv2.LINE_AA)\n",
    "        \n",
    "    return cpimg"
   ]
  },
  {
   "cell_type": "code",
   "execution_count": 110,
   "metadata": {},
   "outputs": [],
   "source": [
    "from keras.applications.imagenet_utils import preprocess_input\n",
    "\n",
    "def process(img):\n",
    "    test_prediction = model.predict(preprocess_input(np.expand_dims(cv2.resize(img, (300, 300)).astype(np.float32), axis=0)), batch_size=1)\n",
    "    test_prediction = bbox_utility.detection_out(test_prediction)\n",
    "    return blending(img, test_prediction, confidence=0.6)\n",
    "\n",
    "        \n",
    "# test_img = test_img_list[random.randint(0, test_img_list.shape[0]-1)]\n",
    "# process(test_img)"
   ]
  },
  {
   "cell_type": "code",
   "execution_count": null,
   "metadata": {},
   "outputs": [
    {
     "name": "stdout",
     "output_type": "stream",
     "text": [
      "[MoviePy] >>>> Building video ./result.mp4\n",
      "[MoviePy] Writing video ./result.mp4\n"
     ]
    },
    {
     "name": "stderr",
     "output_type": "stream",
     "text": [
      " 23%|██▎       | 286/1261 [17:16<59:14,  3.65s/it]  "
     ]
    }
   ],
   "source": [
    "from moviepy.editor import VideoFileClip\n",
    "\n",
    "clip = VideoFileClip('../project_video.mp4').fl_image(process)\n",
    "# clip = clip.set_end(10)\n",
    "# clip.write_gif('./result.gif')\n",
    "clip.write_videofile('./result.mp4', audio=False)"
   ]
  }
 ],
 "metadata": {
  "kernelspec": {
   "display_name": "Python 2",
   "language": "python",
   "name": "python2"
  },
  "language_info": {
   "codemirror_mode": {
    "name": "ipython",
    "version": 2
   },
   "file_extension": ".py",
   "mimetype": "text/x-python",
   "name": "python",
   "nbconvert_exporter": "python",
   "pygments_lexer": "ipython2",
   "version": "2.7.14"
  }
 },
 "nbformat": 4,
 "nbformat_minor": 2
}
