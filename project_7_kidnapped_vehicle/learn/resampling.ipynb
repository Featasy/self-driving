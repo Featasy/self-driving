{
 "cells": [
  {
   "cell_type": "markdown",
   "metadata": {},
   "source": [
    "# Resampling Wheel\n",
    "The concept of resampling wheel is likely to gambling.\n",
    "\n",
    "When we gamble, will rotate the wheel. However, if the span of wheel represent to probability, which means the more larger span, the more probability in which locate.\n",
    "\n",
    "The B means rotation, so everytime we rotate the wheel, the bigger probability(weights) of the span(particle) located."
   ]
  },
  {
   "cell_type": "code",
   "execution_count": 1,
   "metadata": {},
   "outputs": [],
   "source": [
    "import random"
   ]
  },
  {
   "cell_type": "code",
   "execution_count": 2,
   "metadata": {},
   "outputs": [],
   "source": [
    "def resampling_shape(old_particles, weights):\n",
    "    N = len(old_particles)\n",
    "    pick_index_list = []\n",
    "    index = int(random.random()*N)\n",
    "    B = 0.0\n",
    "    max_weight = max(weights)\n",
    "    # traverse each of particle, like gambling having N chances.\n",
    "    for i in range(N):\n",
    "        B += random.random() * 2.0 * max_weight\n",
    "        while weights[index] < B:\n",
    "            B = B - weights[index]\n",
    "            index = (index + 1) % N\n",
    "        pick_index_list.append(old_particles[index])\n",
    "        \n",
    "    return pick_index_list"
   ]
  },
  {
   "cell_type": "code",
   "execution_count": 3,
   "metadata": {},
   "outputs": [
    {
     "name": "stdout",
     "output_type": "stream",
     "text": [
      "[4, 1, 3, 1]\n"
     ]
    }
   ],
   "source": [
    "old_particles = [1, 2, 3, 4]\n",
    "weights = [0.3, 0.1, 0.4, 0.3]\n",
    "new_particles = resampling_shape(old_particles, weights)\n",
    "print new_particles"
   ]
  }
 ],
 "metadata": {
  "kernelspec": {
   "display_name": "Python 2",
   "language": "python",
   "name": "python2"
  },
  "language_info": {
   "codemirror_mode": {
    "name": "ipython",
    "version": 2
   },
   "file_extension": ".py",
   "mimetype": "text/x-python",
   "name": "python",
   "nbconvert_exporter": "python",
   "pygments_lexer": "ipython2",
   "version": "2.7.14"
  }
 },
 "nbformat": 4,
 "nbformat_minor": 2
}
